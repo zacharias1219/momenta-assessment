{
 "cells": [
  {
   "cell_type": "code",
   "execution_count": 1,
   "metadata": {},
   "outputs": [],
   "source": [
    "# Dependencies\n",
    "import os\n",
    "import shutil\n",
    "import torch\n",
    "import torchaudio\n",
    "import torch.nn as nn\n",
    "import torch.optim as optim\n",
    "from torch.utils.data import Dataset, DataLoader\n",
    "from torchaudio.transforms import Resample\n",
    "from sklearn.metrics import accuracy_score, classification_report, confusion_matrix\n",
    "import random\n",
    "import numpy as np"
   ]
  },
  {
   "cell_type": "code",
   "execution_count": 2,
   "metadata": {},
   "outputs": [
    {
     "name": "stdout",
     "output_type": "stream",
     "text": [
      "Train Set:\n",
      "  Bonafide: 300\n",
      "  Spoof:    300\n",
      "\n",
      "Eval Set:\n",
      "  Bonafide: 300\n",
      "  Spoof:    300\n"
     ]
    }
   ],
   "source": [
    "import os\n",
    "\n",
    "def count_files(base_dir):\n",
    "    bonafide_dir = os.path.join(base_dir, \"bonafide\")\n",
    "    spoof_dir = os.path.join(base_dir, \"spoof\")\n",
    "\n",
    "    bonafide_count = len([f for f in os.listdir(bonafide_dir) if f.endswith(\".flac\")]) if os.path.exists(bonafide_dir) else 0\n",
    "    spoof_count = len([f for f in os.listdir(spoof_dir) if f.endswith(\".flac\")]) if os.path.exists(spoof_dir) else 0\n",
    "\n",
    "    return bonafide_count, spoof_count\n",
    "\n",
    "train_counts = count_files(\"./data/ASVspoof5/train\")\n",
    "eval_counts = count_files(\"./data/ASVspoof5/eval\")\n",
    "\n",
    "print(\"Train Set:\")\n",
    "print(f\"  Bonafide: {train_counts[0]}\")\n",
    "print(f\"  Spoof:    {train_counts[1]}\")\n",
    "\n",
    "print(\"\\nEval Set:\")\n",
    "print(f\"  Bonafide: {eval_counts[0]}\")\n",
    "print(f\"  Spoof:    {eval_counts[1]}\")\n"
   ]
  },
  {
   "cell_type": "code",
   "execution_count": 3,
   "metadata": {},
   "outputs": [],
   "source": [
    "# Constants and Paths\n",
    "DATA_ROOT = \"./data\"\n",
    "ASV5_DIR = os.path.join(DATA_ROOT, \"ASVspoof5\")\n",
    "RAW_AUDIO_DIR = os.path.join(ASV5_DIR, \"raw_audio\")\n",
    "PROTOCOL_EVAL = os.path.join(ASV5_DIR, \"protocols\", \"ASVspoof5.eval.track_2.trial.tsv\")\n",
    "TARGET_TRAIN_DIR = os.path.join(ASV5_DIR, \"train\")  # Still used to load some training samples\n",
    "TARGET_EVAL_DIR = os.path.join(ASV5_DIR, \"eval\")\n",
    "MAX_PER_CLASS = 500"
   ]
  },
  {
   "cell_type": "code",
   "execution_count": 4,
   "metadata": {},
   "outputs": [],
   "source": [
    "# Organize audio based on protocol\n",
    "\n",
    "def organize_asvspoof5_eval_data(protocol_file, output_dir):\n",
    "    os.makedirs(os.path.join(output_dir, \"bonafide\"), exist_ok=True)\n",
    "    os.makedirs(os.path.join(output_dir, \"spoof\"), exist_ok=True)\n",
    "\n",
    "    bonafide_count, spoof_count = 0, 0\n",
    "    with open(protocol_file, 'r') as f:\n",
    "        for line in f:\n",
    "            parts = line.strip().split('\\t')\n",
    "            if len(parts) < 4:\n",
    "                continue\n",
    "            file_id, label = parts[1], parts[-1].strip()\n",
    "            src_path = os.path.join(RAW_AUDIO_DIR, file_id + \".flac\")\n",
    "            if not os.path.exists(src_path):\n",
    "                continue\n",
    "\n",
    "            if label == \"bonafide\" and bonafide_count < MAX_PER_CLASS:\n",
    "                dst_path = os.path.join(output_dir, \"bonafide\", file_id + \".flac\")\n",
    "                shutil.copyfile(src_path, dst_path)\n",
    "                bonafide_count += 1\n",
    "            elif label == \"spoof\" and spoof_count < MAX_PER_CLASS:\n",
    "                dst_path = os.path.join(output_dir, \"spoof\", file_id + \".flac\")\n",
    "                shutil.copyfile(src_path, dst_path)\n",
    "                spoof_count += 1\n",
    "            if bonafide_count >= MAX_PER_CLASS and spoof_count >= MAX_PER_CLASS:\n",
    "                break\n",
    "    print(f\"Organized {bonafide_count} bonafide and {spoof_count} spoof files in {output_dir}.\")"
   ]
  },
  {
   "cell_type": "code",
   "execution_count": 5,
   "metadata": {},
   "outputs": [],
   "source": [
    "# Import RawNet2 model\n",
    "from model.rawnet2 import RawNet2\n",
    "from model.model_config import ModelConfig"
   ]
  },
  {
   "cell_type": "code",
   "execution_count": 6,
   "metadata": {},
   "outputs": [],
   "source": [
    "class AudioDataset(Dataset):\n",
    "    def __init__(self, root_dir, max_samples=100, target_length=64000):\n",
    "        self.files = []\n",
    "        self.labels = []\n",
    "        self.target_length = target_length  # 4 seconds at 16kHz\n",
    "        \n",
    "        for label, folder in enumerate([\"bonafide\", \"spoof\"]):\n",
    "            full_path = os.path.join(root_dir, folder)\n",
    "            if not os.path.exists(full_path): continue\n",
    "            files = [os.path.join(full_path, f) for f in os.listdir(full_path) if f.endswith(\".wav\") or f.endswith(\".flac\")]\n",
    "            self.files.extend(files[:max_samples])\n",
    "            self.labels.extend([label] * len(files[:max_samples]))\n",
    "\n",
    "    def __len__(self):\n",
    "        return len(self.files)\n",
    "\n",
    "    def __getitem__(self, idx):\n",
    "        waveform, sr = torchaudio.load(self.files[idx])\n",
    "        waveform = waveform.mean(dim=0, keepdim=True)  # mono\n",
    "        waveform = Resample(sr, 16000)(waveform)  # resample to 16kHz\n",
    "        \n",
    "        # Standardize length\n",
    "        current_length = waveform.shape[1]\n",
    "        \n",
    "        if current_length < self.target_length:\n",
    "            # Pad with zeros if audio is too short\n",
    "            padding = torch.zeros(1, self.target_length - current_length)\n",
    "            waveform = torch.cat([waveform, padding], dim=1)\n",
    "        elif current_length > self.target_length:\n",
    "            # Truncate if audio is too long\n",
    "            waveform = waveform[:, :self.target_length]\n",
    "            \n",
    "        return waveform, self.labels[idx]"
   ]
  },
  {
   "cell_type": "code",
   "execution_count": 7,
   "metadata": {},
   "outputs": [],
   "source": [
    "# Training Function\n",
    "\n",
    "def train_model(model, dataloader, optimizer, criterion, epochs=5, device=\"cpu\"):\n",
    "    model.train()\n",
    "    for epoch in range(epochs):\n",
    "        total_loss = 0.0\n",
    "        for batch in dataloader:\n",
    "            x, y = batch\n",
    "            x, y = x.to(device), torch.tensor(y).to(device)\n",
    "            optimizer.zero_grad()\n",
    "            y_hat = model(x)\n",
    "            loss = criterion(y_hat, y)\n",
    "            loss.backward()\n",
    "            optimizer.step()\n",
    "            total_loss += loss.item()\n",
    "        print(f\"Epoch {epoch+1}, Loss: {total_loss:.4f}\")"
   ]
  },
  {
   "cell_type": "code",
   "execution_count": 8,
   "metadata": {},
   "outputs": [],
   "source": [
    "# Evaluation Function\n",
    "\n",
    "def evaluate_model(model, dataloader, device=\"cpu\"):\n",
    "    model.eval()\n",
    "    preds, trues = [], []\n",
    "    with torch.no_grad():\n",
    "        for x, y in dataloader:\n",
    "            x = x.to(device)\n",
    "            y_hat = model(x)\n",
    "            preds.extend(torch.argmax(y_hat, dim=1).cpu().numpy())\n",
    "            trues.extend(y)\n",
    "    acc = accuracy_score(trues, preds)\n",
    "    print(\"\\nEvaluation Metrics\")\n",
    "    print(\"------------------\")\n",
    "    print(f\"Accuracy: {acc:.4f}\")\n",
    "    print(\"\\nClassification Report:\")\n",
    "    print(classification_report(trues, preds, target_names=[\"bonafide\", \"spoof\"]))\n",
    "    print(\"Confusion Matrix:\")\n",
    "    print(confusion_matrix(trues, preds))"
   ]
  },
  {
   "cell_type": "code",
   "execution_count": 9,
   "metadata": {},
   "outputs": [
    {
     "name": "stdout",
     "output_type": "stream",
     "text": [
      "Using device: cpu\n",
      "\n",
      "Organizing evaluation data from E subset only...\n",
      "Organized 0 bonafide and 0 spoof files in ./data\\ASVspoof5\\eval.\n",
      "\n",
      "Duplicating eval set as train set for light fine-tuning...\n",
      "\n",
      "Loading training and evaluation datasets...\n",
      "\n",
      "Starting model training...\n"
     ]
    },
    {
     "name": "stderr",
     "output_type": "stream",
     "text": [
      "C:\\Users\\Richa\\AppData\\Local\\Temp\\ipykernel_46200\\1615773536.py:9: UserWarning: To copy construct from a tensor, it is recommended to use sourceTensor.clone().detach() or sourceTensor.clone().detach().requires_grad_(True), rather than torch.tensor(sourceTensor).\n",
      "  x, y = x.to(device), torch.tensor(y).to(device)\n"
     ]
    },
    {
     "ename": "KeyboardInterrupt",
     "evalue": "",
     "output_type": "error",
     "traceback": [
      "\u001b[1;31m---------------------------------------------------------------------------\u001b[0m",
      "\u001b[1;31mKeyboardInterrupt\u001b[0m                         Traceback (most recent call last)",
      "Cell \u001b[1;32mIn[9], line 26\u001b[0m\n\u001b[0;32m     23\u001b[0m eval_loader \u001b[38;5;241m=\u001b[39m DataLoader(eval_dataset, batch_size\u001b[38;5;241m=\u001b[39m\u001b[38;5;241m4\u001b[39m, shuffle\u001b[38;5;241m=\u001b[39m\u001b[38;5;28;01mFalse\u001b[39;00m)\n\u001b[0;32m     25\u001b[0m \u001b[38;5;28mprint\u001b[39m(\u001b[38;5;124m\"\u001b[39m\u001b[38;5;130;01m\\n\u001b[39;00m\u001b[38;5;124mStarting model training...\u001b[39m\u001b[38;5;124m\"\u001b[39m)\n\u001b[1;32m---> 26\u001b[0m \u001b[43mtrain_model\u001b[49m\u001b[43m(\u001b[49m\u001b[43mmodel\u001b[49m\u001b[43m,\u001b[49m\u001b[43m \u001b[49m\u001b[43mtrain_loader\u001b[49m\u001b[43m,\u001b[49m\u001b[43m \u001b[49m\u001b[43moptimizer\u001b[49m\u001b[43m,\u001b[49m\u001b[43m \u001b[49m\u001b[43mcriterion\u001b[49m\u001b[43m,\u001b[49m\u001b[43m \u001b[49m\u001b[43mepochs\u001b[49m\u001b[38;5;241;43m=\u001b[39;49m\u001b[38;5;241;43m3\u001b[39;49m\u001b[43m,\u001b[49m\u001b[43m \u001b[49m\u001b[43mdevice\u001b[49m\u001b[38;5;241;43m=\u001b[39;49m\u001b[43mdevice\u001b[49m\u001b[43m)\u001b[49m\n\u001b[0;32m     28\u001b[0m \u001b[38;5;28mprint\u001b[39m(\u001b[38;5;124m\"\u001b[39m\u001b[38;5;130;01m\\n\u001b[39;00m\u001b[38;5;124mRunning evaluation...\u001b[39m\u001b[38;5;124m\"\u001b[39m)\n\u001b[0;32m     29\u001b[0m evaluate_model(model, eval_loader, device\u001b[38;5;241m=\u001b[39mdevice)\n",
      "Cell \u001b[1;32mIn[7], line 13\u001b[0m, in \u001b[0;36mtrain_model\u001b[1;34m(model, dataloader, optimizer, criterion, epochs, device)\u001b[0m\n\u001b[0;32m     11\u001b[0m y_hat \u001b[38;5;241m=\u001b[39m model(x)\n\u001b[0;32m     12\u001b[0m loss \u001b[38;5;241m=\u001b[39m criterion(y_hat, y)\n\u001b[1;32m---> 13\u001b[0m \u001b[43mloss\u001b[49m\u001b[38;5;241;43m.\u001b[39;49m\u001b[43mbackward\u001b[49m\u001b[43m(\u001b[49m\u001b[43m)\u001b[49m\n\u001b[0;32m     14\u001b[0m optimizer\u001b[38;5;241m.\u001b[39mstep()\n\u001b[0;32m     15\u001b[0m total_loss \u001b[38;5;241m+\u001b[39m\u001b[38;5;241m=\u001b[39m loss\u001b[38;5;241m.\u001b[39mitem()\n",
      "File \u001b[1;32mc:\\Users\\Richa\\anaconda3\\lib\\site-packages\\torch\\_tensor.py:626\u001b[0m, in \u001b[0;36mTensor.backward\u001b[1;34m(self, gradient, retain_graph, create_graph, inputs)\u001b[0m\n\u001b[0;32m    616\u001b[0m \u001b[38;5;28;01mif\u001b[39;00m has_torch_function_unary(\u001b[38;5;28mself\u001b[39m):\n\u001b[0;32m    617\u001b[0m     \u001b[38;5;28;01mreturn\u001b[39;00m handle_torch_function(\n\u001b[0;32m    618\u001b[0m         Tensor\u001b[38;5;241m.\u001b[39mbackward,\n\u001b[0;32m    619\u001b[0m         (\u001b[38;5;28mself\u001b[39m,),\n\u001b[1;32m   (...)\u001b[0m\n\u001b[0;32m    624\u001b[0m         inputs\u001b[38;5;241m=\u001b[39minputs,\n\u001b[0;32m    625\u001b[0m     )\n\u001b[1;32m--> 626\u001b[0m \u001b[43mtorch\u001b[49m\u001b[38;5;241;43m.\u001b[39;49m\u001b[43mautograd\u001b[49m\u001b[38;5;241;43m.\u001b[39;49m\u001b[43mbackward\u001b[49m\u001b[43m(\u001b[49m\n\u001b[0;32m    627\u001b[0m \u001b[43m    \u001b[49m\u001b[38;5;28;43mself\u001b[39;49m\u001b[43m,\u001b[49m\u001b[43m \u001b[49m\u001b[43mgradient\u001b[49m\u001b[43m,\u001b[49m\u001b[43m \u001b[49m\u001b[43mretain_graph\u001b[49m\u001b[43m,\u001b[49m\u001b[43m \u001b[49m\u001b[43mcreate_graph\u001b[49m\u001b[43m,\u001b[49m\u001b[43m \u001b[49m\u001b[43minputs\u001b[49m\u001b[38;5;241;43m=\u001b[39;49m\u001b[43minputs\u001b[49m\n\u001b[0;32m    628\u001b[0m \u001b[43m\u001b[49m\u001b[43m)\u001b[49m\n",
      "File \u001b[1;32mc:\\Users\\Richa\\anaconda3\\lib\\site-packages\\torch\\autograd\\__init__.py:347\u001b[0m, in \u001b[0;36mbackward\u001b[1;34m(tensors, grad_tensors, retain_graph, create_graph, grad_variables, inputs)\u001b[0m\n\u001b[0;32m    342\u001b[0m     retain_graph \u001b[38;5;241m=\u001b[39m create_graph\n\u001b[0;32m    344\u001b[0m \u001b[38;5;66;03m# The reason we repeat the same comment below is that\u001b[39;00m\n\u001b[0;32m    345\u001b[0m \u001b[38;5;66;03m# some Python versions print out the first line of a multi-line function\u001b[39;00m\n\u001b[0;32m    346\u001b[0m \u001b[38;5;66;03m# calls in the traceback and some print out the last line\u001b[39;00m\n\u001b[1;32m--> 347\u001b[0m \u001b[43m_engine_run_backward\u001b[49m\u001b[43m(\u001b[49m\n\u001b[0;32m    348\u001b[0m \u001b[43m    \u001b[49m\u001b[43mtensors\u001b[49m\u001b[43m,\u001b[49m\n\u001b[0;32m    349\u001b[0m \u001b[43m    \u001b[49m\u001b[43mgrad_tensors_\u001b[49m\u001b[43m,\u001b[49m\n\u001b[0;32m    350\u001b[0m \u001b[43m    \u001b[49m\u001b[43mretain_graph\u001b[49m\u001b[43m,\u001b[49m\n\u001b[0;32m    351\u001b[0m \u001b[43m    \u001b[49m\u001b[43mcreate_graph\u001b[49m\u001b[43m,\u001b[49m\n\u001b[0;32m    352\u001b[0m \u001b[43m    \u001b[49m\u001b[43minputs\u001b[49m\u001b[43m,\u001b[49m\n\u001b[0;32m    353\u001b[0m \u001b[43m    \u001b[49m\u001b[43mallow_unreachable\u001b[49m\u001b[38;5;241;43m=\u001b[39;49m\u001b[38;5;28;43;01mTrue\u001b[39;49;00m\u001b[43m,\u001b[49m\n\u001b[0;32m    354\u001b[0m \u001b[43m    \u001b[49m\u001b[43maccumulate_grad\u001b[49m\u001b[38;5;241;43m=\u001b[39;49m\u001b[38;5;28;43;01mTrue\u001b[39;49;00m\u001b[43m,\u001b[49m\n\u001b[0;32m    355\u001b[0m \u001b[43m\u001b[49m\u001b[43m)\u001b[49m\n",
      "File \u001b[1;32mc:\\Users\\Richa\\anaconda3\\lib\\site-packages\\torch\\autograd\\graph.py:823\u001b[0m, in \u001b[0;36m_engine_run_backward\u001b[1;34m(t_outputs, *args, **kwargs)\u001b[0m\n\u001b[0;32m    821\u001b[0m     unregister_hooks \u001b[38;5;241m=\u001b[39m _register_logging_hooks_on_whole_graph(t_outputs)\n\u001b[0;32m    822\u001b[0m \u001b[38;5;28;01mtry\u001b[39;00m:\n\u001b[1;32m--> 823\u001b[0m     \u001b[38;5;28;01mreturn\u001b[39;00m Variable\u001b[38;5;241m.\u001b[39m_execution_engine\u001b[38;5;241m.\u001b[39mrun_backward(  \u001b[38;5;66;03m# Calls into the C++ engine to run the backward pass\u001b[39;00m\n\u001b[0;32m    824\u001b[0m         t_outputs, \u001b[38;5;241m*\u001b[39margs, \u001b[38;5;241m*\u001b[39m\u001b[38;5;241m*\u001b[39mkwargs\n\u001b[0;32m    825\u001b[0m     )  \u001b[38;5;66;03m# Calls into the C++ engine to run the backward pass\u001b[39;00m\n\u001b[0;32m    826\u001b[0m \u001b[38;5;28;01mfinally\u001b[39;00m:\n\u001b[0;32m    827\u001b[0m     \u001b[38;5;28;01mif\u001b[39;00m attach_logging_hooks:\n",
      "\u001b[1;31mKeyboardInterrupt\u001b[0m: "
     ]
    }
   ],
   "source": [
    "# Main Script\n",
    "if __name__ == \"__main__\":\n",
    "    device = \"cuda\" if torch.cuda.is_available() else \"cpu\"\n",
    "    print(f\"Using device: {device}\")\n",
    "    \n",
    "    config = ModelConfig()\n",
    "    model = RawNet2(config).to(device)\n",
    "    optimizer = optim.Adam(model.parameters(), lr=0.001)\n",
    "    criterion = nn.CrossEntropyLoss()\n",
    "\n",
    "    print(\"\\nOrganizing evaluation data from E subset only...\")\n",
    "    organize_asvspoof5_eval_data(PROTOCOL_EVAL, TARGET_EVAL_DIR)\n",
    "\n",
    "    print(\"\\nDuplicating eval set as train set for light fine-tuning...\")\n",
    "    if not os.path.exists(TARGET_TRAIN_DIR):\n",
    "        shutil.copytree(TARGET_EVAL_DIR, TARGET_TRAIN_DIR)\n",
    "\n",
    "    print(\"\\nLoading training and evaluation datasets...\")\n",
    "    train_dataset = AudioDataset(TARGET_TRAIN_DIR)\n",
    "    eval_dataset = AudioDataset(TARGET_EVAL_DIR)\n",
    "\n",
    "    train_loader = DataLoader(train_dataset, batch_size=4, shuffle=True)\n",
    "    eval_loader = DataLoader(eval_dataset, batch_size=4, shuffle=False)\n",
    "\n",
    "    print(\"\\nStarting model training...\")\n",
    "    train_model(model, train_loader, optimizer, criterion, epochs=3, device=device)\n",
    "\n",
    "    print(\"\\nRunning evaluation...\")\n",
    "    evaluate_model(model, eval_loader, device=device)"
   ]
  },
  {
   "cell_type": "code",
   "execution_count": null,
   "metadata": {},
   "outputs": [],
   "source": []
  }
 ],
 "metadata": {
  "kernelspec": {
   "display_name": "base",
   "language": "python",
   "name": "python3"
  },
  "language_info": {
   "codemirror_mode": {
    "name": "ipython",
    "version": 3
   },
   "file_extension": ".py",
   "mimetype": "text/x-python",
   "name": "python",
   "nbconvert_exporter": "python",
   "pygments_lexer": "ipython3",
   "version": "3.10.13"
  }
 },
 "nbformat": 4,
 "nbformat_minor": 2
}
